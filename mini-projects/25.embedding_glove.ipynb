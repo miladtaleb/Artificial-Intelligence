{
 "cells": [
  {
   "cell_type": "code",
   "execution_count": 1,
   "metadata": {},
   "outputs": [],
   "source": [
    "import numpy as np\n",
    "\n",
    "import os"
   ]
  },
  {
   "cell_type": "code",
   "execution_count": 2,
   "metadata": {},
   "outputs": [
    {
     "data": {
      "text/plain": [
       "400000"
      ]
     },
     "execution_count": 2,
     "metadata": {},
     "output_type": "execute_result"
    }
   ],
   "source": [
    "dir='/home/milad/Desktop/python/DL/Mini_project/db/glove.6B'\n",
    "embeddings_index={}\n",
    "with open(f'{dir}/glove.6B.100d.txt',encoding='utf-8') as f:\n",
    "  lines=f.readlines()\n",
    "  for line in lines:\n",
    "    values=line.split()\n",
    "    word=values[0]\n",
    "    embed=values[1:]\n",
    "    weights=np.asarray(embed,dtype='float32')\n",
    "    embeddings_index[word]=weights\n",
    "\n",
    "len(embeddings_index.keys())"
   ]
  },
  {
   "cell_type": "code",
   "execution_count": 3,
   "metadata": {},
   "outputs": [],
   "source": [
    "from sklearn.metrics.pairwise import cosine_similarity\n",
    "\n",
    "def similarity(u,v):\n",
    "  return np.squeeze(cosine_similarity(u.reshape(1,-1),v.reshape(1,-1)))"
   ]
  },
  {
   "cell_type": "code",
   "execution_count": 4,
   "metadata": {},
   "outputs": [
    {
     "data": {
      "text/plain": [
       "array([ 0.64706 , -0.068067,  0.15468 , -0.17408 , -0.29134 ,  0.76999 ,\n",
       "       -0.3192  , -0.25663 , -0.25082 , -0.036737, -0.25509 ,  0.29636 ,\n",
       "        0.5776  ,  0.49641 ,  0.19167 , -0.83888 ,  0.58482 , -0.38717 ,\n",
       "       -0.71591 ,  0.9519  , -0.37966 , -0.1131  ,  0.47154 ,  0.20921 ,\n",
       "        0.38197 ,  0.067582, -0.92879 , -1.1237  ,  0.84831 ,  0.68744 ,\n",
       "       -0.15472 ,  0.92714 ,  0.53371 , -0.037392, -0.856   ,  0.19056 ,\n",
       "       -0.014594,  0.15186 ,  0.53514 , -0.20306 , -0.35164 ,  0.33152 ,\n",
       "        1.1306  , -0.72787 , -0.19724 ,  0.031659, -0.24041 , -0.057617,\n",
       "        0.60473 , -0.49233 , -0.24405 , -0.3184  ,  0.96156 ,  1.0895  ,\n",
       "        0.21534 , -2.0542  , -1.0615  ,  0.052439,  0.57958 ,  0.2748  ,\n",
       "        0.91587 ,  0.85195 ,  0.36113 , -0.31901 ,  0.7784  , -0.36865 ,\n",
       "        0.64387 ,  0.33104 , -0.27181 ,  0.58524 , -0.15143 ,  0.11121 ,\n",
       "        0.2126  , -0.60345 ,  0.16148 ,  0.32952 , -0.1354  , -0.30629 ,\n",
       "       -0.89143 ,  0.091912,  0.49753 ,  0.55932 ,  0.19329 ,  0.044859,\n",
       "       -1.0416  , -0.41566 , -0.54174 , -0.7244  , -0.57492 , -1.1188  ,\n",
       "        0.087097, -0.2992  ,  0.87227 ,  0.86996 , -0.89641 , -0.28259 ,\n",
       "       -0.47295 , -0.74062 , -0.39    , -0.78099 ], dtype=float32)"
      ]
     },
     "execution_count": 4,
     "metadata": {},
     "output_type": "execute_result"
    }
   ],
   "source": [
    "embeddings_index['father']"
   ]
  },
  {
   "cell_type": "code",
   "execution_count": 5,
   "metadata": {},
   "outputs": [],
   "source": [
    "father = embeddings_index['father']\n",
    "mother = embeddings_index['mother']\n",
    "tehran = embeddings_index['tehran']\n",
    "paris = embeddings_index['paris']\n",
    "france = embeddings_index['france']\n",
    "iran = embeddings_index['iran']"
   ]
  },
  {
   "cell_type": "code",
   "execution_count": 6,
   "metadata": {},
   "outputs": [
    {
     "data": {
      "text/plain": [
       "array(0.8656661, dtype=float32)"
      ]
     },
     "execution_count": 6,
     "metadata": {},
     "output_type": "execute_result"
    }
   ],
   "source": [
    "similarity(father,mother)"
   ]
  },
  {
   "cell_type": "code",
   "execution_count": 7,
   "metadata": {},
   "outputs": [
    {
     "data": {
      "text/plain": [
       "array(0.45368147, dtype=float32)"
      ]
     },
     "execution_count": 7,
     "metadata": {},
     "output_type": "execute_result"
    }
   ],
   "source": [
    "similarity(tehran,paris)"
   ]
  },
  {
   "cell_type": "code",
   "execution_count": 8,
   "metadata": {},
   "outputs": [
    {
     "data": {
      "text/plain": [
       "array(0.46655208, dtype=float32)"
      ]
     },
     "execution_count": 8,
     "metadata": {},
     "output_type": "execute_result"
    }
   ],
   "source": [
    "similarity(france,iran)"
   ]
  },
  {
   "cell_type": "code",
   "execution_count": 9,
   "metadata": {},
   "outputs": [
    {
     "data": {
      "text/plain": [
       "array(0.6854124, dtype=float32)"
      ]
     },
     "execution_count": 9,
     "metadata": {},
     "output_type": "execute_result"
    }
   ],
   "source": [
    "similarity(france - paris,iran - tehran)"
   ]
  },
  {
   "cell_type": "code",
   "execution_count": 10,
   "metadata": {},
   "outputs": [
    {
     "data": {
      "text/plain": [
       "array(-0.6854124, dtype=float32)"
      ]
     },
     "execution_count": 10,
     "metadata": {},
     "output_type": "execute_result"
    }
   ],
   "source": [
    "similarity(france - paris,tehran - iran)"
   ]
  },
  {
   "cell_type": "code",
   "execution_count": 11,
   "metadata": {},
   "outputs": [],
   "source": [
    "def complete_analogy(word_a,word_b,word_c,embeddings_index):\n",
    "  word_a,word_b,word_c = word_a.lower(),word_b.lower(),word_c.lower()\n",
    "\n",
    "  e_a,e_b,e_c = embeddings_index[word_a],embeddings_index[word_b],embeddings_index[word_c]\n",
    "\n",
    "  words = embeddings_index.keys()\n",
    "  max_cosine_sim=float('-inf')\n",
    "  best_word=None\n",
    "\n",
    "  for w in words:\n",
    "    if w in [word_a,word_b,word_c]:\n",
    "      continue\n",
    "\n",
    "    cosine_sim = similarity(e_b - e_a, embeddings_index[w] - e_c)\n",
    "\n",
    "    if cosine_sim > max_cosine_sim:\n",
    "      max_cosine_sim = cosine_sim\n",
    "      best_word = w\n",
    "\n",
    "\n",
    "  return best_word\n"
   ]
  },
  {
   "cell_type": "code",
   "execution_count": 12,
   "metadata": {},
   "outputs": [
    {
     "data": {
      "text/plain": [
       "'iranian'"
      ]
     },
     "execution_count": 12,
     "metadata": {},
     "output_type": "execute_result"
    }
   ],
   "source": [
    "complete_analogy('china','chinese','iran',embeddings_index)"
   ]
  },
  {
   "cell_type": "code",
   "execution_count": 13,
   "metadata": {},
   "outputs": [
    {
     "data": {
      "text/plain": [
       "array([ 4.5009e-01,  1.6062e-01,  1.1566e-01, -5.3179e-01, -7.2739e-02,\n",
       "        8.7249e-01, -2.7337e-01,  3.9109e-02, -1.1082e-01, -6.7418e-01,\n",
       "       -5.8561e-03, -2.7491e-01,  4.4526e-01,  2.7253e-01, -1.4088e-01,\n",
       "       -6.3118e-01,  3.3957e-01, -2.3398e-01, -8.2852e-01,  8.2585e-01,\n",
       "       -1.0884e-01,  4.0506e-01,  4.1654e-02, -3.8506e-01,  1.8556e-01,\n",
       "        1.0295e-02, -3.7407e-01, -2.1638e-01,  8.0129e-01,  1.9284e-01,\n",
       "        3.8775e-01,  8.0588e-01,  5.3309e-01,  1.4667e-01,  1.8727e-01,\n",
       "        5.4205e-01,  3.6400e-01,  1.1027e-01,  4.1861e-01, -2.7823e-01,\n",
       "       -4.4245e-01,  1.4767e-01,  2.5920e-01, -3.3971e-01, -3.1072e-01,\n",
       "       -2.6700e-01, -6.7109e-01,  5.3856e-01,  6.7125e-01, -5.1252e-01,\n",
       "       -1.2794e-01, -4.7893e-01,  1.8934e-01,  7.5955e-01,  1.8978e-01,\n",
       "       -1.8906e+00, -5.5521e-02, -1.2690e-01,  6.3579e-01,  5.6385e-01,\n",
       "       -7.5377e-02,  1.4552e+00, -1.7026e-03, -3.5715e-01,  4.9432e-01,\n",
       "       -1.4183e-01,  6.4131e-01,  5.4293e-01,  6.6209e-01, -1.4464e-01,\n",
       "       -4.0080e-01,  4.8891e-02, -1.6735e-02, -9.6321e-01, -4.0814e-01,\n",
       "        7.3175e-01,  5.8327e-01, -4.3811e-01, -4.2983e-01,  9.1911e-02,\n",
       "        2.1813e-01,  7.1625e-01,  4.3988e-01, -4.1758e-01, -1.7088e+00,\n",
       "       -2.0311e-01, -5.6976e-01,  2.4587e-01, -5.7225e-01, -6.6964e-01,\n",
       "       -1.6563e-01,  1.0540e-01,  1.0018e+00, -2.1485e-01, -9.9401e-01,\n",
       "       -2.4700e-01, -5.3801e-01,  1.4848e-01,  2.0774e-01,  5.2736e-01],\n",
       "      dtype=float32)"
      ]
     },
     "execution_count": 13,
     "metadata": {},
     "output_type": "execute_result"
    }
   ],
   "source": [
    "embeddings_index['friends']"
   ]
  },
  {
   "cell_type": "code",
   "execution_count": 14,
   "metadata": {},
   "outputs": [],
   "source": [
    "def complete_analogy2(word_a,word_b,word_c,embeddings_index,limit=5):\n",
    "  word_a,word_b,word_c = word_a.lower(),word_b.lower(),word_c.lower()\n",
    "\n",
    "  e_a,e_b,e_c = embeddings_index[word_a],embeddings_index[word_b],embeddings_index[word_c]\n",
    "\n",
    "  words = embeddings_index.keys()\n",
    "  max_cosine_sim=float('-inf')\n",
    "  best_word={}\n",
    "\n",
    "  for w in words:\n",
    "    #if len(best_word.keys()) >=limit:\n",
    "      #break\n",
    "    if w in [word_a,word_b,word_c]:\n",
    "      continue\n",
    "\n",
    "    cosine_sim = similarity(e_b - e_a, embeddings_index[w] - e_c)\n",
    "\n",
    "    if cosine_sim > max_cosine_sim:\n",
    "      max_cosine_sim = cosine_sim\n",
    "      best_word[w] = cosine_sim\n",
    "\n",
    "\n",
    "  return sorted(best_word.items(),key=lambda x:x[1],reverse=True)[:limit]"
   ]
  },
  {
   "cell_type": "code",
   "execution_count": 15,
   "metadata": {},
   "outputs": [
    {
     "data": {
      "text/plain": [
       "[('iranian', array(0.796303, dtype=float32)),\n",
       " ('turkish', array(0.6328089, dtype=float32)),\n",
       " ('greek', array(0.60495967, dtype=float32)),\n",
       " ('iraqi', array(0.57764673, dtype=float32)),\n",
       " ('russian', array(0.5115686, dtype=float32))]"
      ]
     },
     "execution_count": 15,
     "metadata": {},
     "output_type": "execute_result"
    }
   ],
   "source": [
    "complete_analogy2('china','chinese','iran',embeddings_index)"
   ]
  },
  {
   "cell_type": "code",
   "execution_count": 16,
   "metadata": {},
   "outputs": [
    {
     "data": {
      "text/plain": [
       "array([ 0.74124  ,  0.11045  ,  0.56782  , -0.065495 ,  0.33851  ,\n",
       "       -0.39176  , -0.80394  , -0.60198  ,  0.24519  ,  1.7734   ,\n",
       "        0.13633  , -0.27694  ,  1.3715   ,  0.15865  , -0.62266  ,\n",
       "        0.56927  , -0.40329  , -0.76107  , -0.78117  , -0.12852  ,\n",
       "        0.019008 , -0.014354 ,  0.30912  , -0.10408  , -0.80433  ,\n",
       "       -0.069777 , -0.44361  ,  0.24099  ,  1.1195   ,  0.96748  ,\n",
       "       -0.24555  , -0.10438  , -0.6079   , -0.328    ,  0.045156 ,\n",
       "       -0.14803  ,  0.12835  ,  0.29054  , -0.23727  ,  0.25611  ,\n",
       "       -1.1144   ,  0.10325  ,  0.15149  ,  0.26347  ,  0.86872  ,\n",
       "       -1.3337   ,  0.14206  , -0.17506  , -0.16883  ,  0.47317  ,\n",
       "        0.44096  ,  0.46944  ,  0.99419  ,  1.0463   , -0.65101  ,\n",
       "       -0.80263  , -0.47383  ,  0.064334 ,  1.4847   ,  0.056562 ,\n",
       "       -0.1044   , -0.059878 , -0.11622  , -0.74952  ,  0.36067  ,\n",
       "        0.53188  ,  0.29301  ,  0.15941  , -0.84449  ,  0.37091  ,\n",
       "        0.76953  , -0.12229  ,  0.54898  , -0.33458  ,  0.0019014,\n",
       "        0.8684   ,  0.65373  ,  0.19024  , -0.87157  , -0.062026 ,\n",
       "        1.2298   , -0.091573 ,  0.34026  , -0.14009  , -0.90774  ,\n",
       "       -0.0031212,  0.39995  ,  0.65767  ,  0.7142   , -1.3929   ,\n",
       "       -0.18946  ,  0.55492  , -0.68324  , -0.2408   , -1.0072   ,\n",
       "        0.054122 , -0.68423  ,  0.26156  ,  0.5887   ,  0.23361  ],\n",
       "      dtype=float32)"
      ]
     },
     "execution_count": 16,
     "metadata": {},
     "output_type": "execute_result"
    }
   ],
   "source": [
    "embeddings_index['iranian']"
   ]
  },
  {
   "cell_type": "code",
   "execution_count": 17,
   "metadata": {},
   "outputs": [
    {
     "data": {
      "text/plain": [
       "array([-0.71766 ,  0.80871 ,  0.31868 , -0.53589 , -0.31998 ,  0.18929 ,\n",
       "       -0.23241 ,  0.44233 ,  0.25649 , -0.32093 , -0.16951 ,  0.14993 ,\n",
       "        0.55681 ,  0.33992 ,  0.028335, -0.38295 ,  0.43366 ,  0.73026 ,\n",
       "       -0.79863 ,  0.2954  ,  0.017078, -0.39545 ,  0.19967 ,  0.081727,\n",
       "        0.18943 ,  0.095973, -0.033138, -0.69888 ,  0.41562 , -0.67422 ,\n",
       "       -0.059873,  1.23    , -0.31391 ,  0.15313 ,  0.82508 ,  0.49345 ,\n",
       "       -0.051686,  0.31035 ,  0.25147 , -0.36228 , -0.14969 , -0.39609 ,\n",
       "       -0.73853 , -1.0716  , -0.21775 ,  0.23018 ,  0.078188, -0.48584 ,\n",
       "       -0.082414, -1.0405  ,  0.44389 , -0.2964  ,  0.036505,  1.2115  ,\n",
       "        0.50287 , -2.2662  , -0.073575,  0.010925,  1.7266  ,  0.63332 ,\n",
       "       -0.23215 ,  1.2603  , -0.43585 , -0.082693,  1.1903  ,  0.34009 ,\n",
       "        0.59365 ,  0.20098 ,  0.1016  , -1.1757  , -0.1187  , -0.59569 ,\n",
       "        0.34427 , -0.48687 ,  0.34953 , -0.44521 , -0.13131 , -0.19316 ,\n",
       "       -0.55304 ,  0.075953,  0.6893  , -0.26706 , -1.1425  , -0.4221  ,\n",
       "       -1.9038  ,  0.028733,  0.79527 , -0.05133 , -0.028824, -0.35704 ,\n",
       "       -0.72769 ,  0.19074 , -0.026097, -0.48544 , -0.225   ,  0.025487,\n",
       "        0.27732 , -1.0023  ,  0.8588  ,  0.28583 ], dtype=float32)"
      ]
     },
     "execution_count": 17,
     "metadata": {},
     "output_type": "execute_result"
    }
   ],
   "source": [
    "embeddings_index['can']"
   ]
  },
  {
   "cell_type": "code",
   "execution_count": 18,
   "metadata": {},
   "outputs": [
    {
     "data": {
      "text/plain": [
       "(array([-0.23295 , -0.56497 , -0.19626 ,  0.19975 , -0.032222, -0.38232 ,\n",
       "        -0.029728,  0.73616 ,  0.58323 , -0.71157 ,  0.39422 , -0.30442 ,\n",
       "        -0.24572 ,  0.17488 , -0.18663 , -0.11994 ,  0.84987 ,  0.10857 ,\n",
       "        -0.68445 ,  1.0525  ,  0.13365 ,  0.064299,  0.83515 ,  1.1555  ,\n",
       "         0.1825  ,  0.69425 ,  0.6002  , -0.94532 , -0.31604 ,  0.58163 ,\n",
       "        -0.29775 ,  0.16136 ,  0.40526 , -0.34496 , -0.29017 , -0.11178 ,\n",
       "         0.63977 ,  0.48543 ,  0.37657 , -0.31775 ,  0.13887 , -0.27289 ,\n",
       "         0.17381 ,  0.1177  , -0.27849 , -0.20353 , -0.30238 ,  0.16277 ,\n",
       "         0.30644 ,  0.37662 , -0.16699 ,  0.32401 ,  0.24019 ,  0.49195 ,\n",
       "         0.17648 , -0.77485 , -0.71654 ,  0.29765 , -0.4008  , -0.43771 ,\n",
       "         0.6624  ,  0.26549 ,  0.31074 , -0.13082 , -0.22054 , -0.37281 ,\n",
       "         0.74097 ,  0.81706 ,  0.033166,  0.062954, -0.18385 ,  0.48533 ,\n",
       "        -0.64557 ,  0.036766,  0.61796 ,  0.50265 , -0.38559 , -0.15885 ,\n",
       "         0.057809, -0.025447, -0.24995 ,  0.031144,  0.09429 , -0.25469 ,\n",
       "        -0.70037 , -0.58117 , -0.53553 ,  0.13108 ,  0.20362 , -0.02534 ,\n",
       "         0.81756 ,  0.36654 ,  0.11558 ,  0.11208 , -0.51402 , -0.02807 ,\n",
       "         0.10026 , -0.12806 , -0.061259,  0.10081 ], dtype=float32),\n",
       " array([ 0.58854 , -0.2025  ,  0.73479 , -0.68338 , -0.19675 , -0.1802  ,\n",
       "        -0.39177 ,  0.34172 , -0.60561 ,  0.63816 , -0.26695 ,  0.36486 ,\n",
       "        -0.40379 , -0.1134  , -0.58718 ,  0.2838  ,  0.8025  , -0.35303 ,\n",
       "         0.30083 ,  0.078935,  0.44416 , -0.45906 ,  0.79294 ,  0.50365 ,\n",
       "         0.32805 ,  0.28027 , -0.4933  , -0.38482 , -0.039284, -0.2483  ,\n",
       "        -0.1988  ,  1.1469  ,  0.13228 ,  0.91691 , -0.36739 ,  0.89425 ,\n",
       "         0.5426  ,  0.61738 , -0.62205 , -0.31132 , -0.50933 ,  0.23335 ,\n",
       "         1.0826  , -0.044637, -0.12767 ,  0.27628 , -0.032617, -0.27397 ,\n",
       "         0.77764 , -0.50861 ,  0.038307, -0.33679 ,  0.42344 ,  1.2271  ,\n",
       "        -0.53826 , -3.2411  ,  0.42626 ,  0.025189,  1.3948  ,  0.65085 ,\n",
       "         0.03325 ,  0.37141 ,  0.4044  ,  0.35558 ,  0.98265 , -0.61724 ,\n",
       "         0.53901 ,  0.76219 ,  0.30689 ,  0.33065 ,  0.30956 , -0.15161 ,\n",
       "        -0.11313 , -0.81281 ,  0.6145  , -0.44341 , -0.19163 , -0.089551,\n",
       "        -1.5927  ,  0.37405 ,  0.85857 ,  0.54613 , -0.31928 ,  0.52598 ,\n",
       "        -1.4802  , -0.97931 , -0.2939  , -0.14724 ,  0.25803 , -0.1817  ,\n",
       "         1.0149  ,  0.77649 ,  0.12598 ,  0.54779 , -1.0316  ,  0.064599,\n",
       "        -0.37523 , -0.94475 ,  0.61802 ,  0.39591 ], dtype=float32),\n",
       " array([-0.1684  , -0.53827 ,  0.31155 , -0.53218 ,  0.26678 , -0.13638 ,\n",
       "         0.36621 ,  0.68383 ,  0.77726 ,  0.68049 ,  0.69137 ,  0.2103  ,\n",
       "         0.091065,  0.24845 , -0.16157 ,  0.46291 , -0.1503  ,  0.2562  ,\n",
       "        -0.1199  ,  0.5913  ,  1.0351  , -0.2052  ,  0.30244 , -0.34101 ,\n",
       "         0.6326  , -0.31603 , -0.9959  , -0.33583 ,  0.25161 ,  0.10323 ,\n",
       "         0.019611,  0.54893 , -0.33433 ,  0.29617 ,  0.41218 ,  0.4207  ,\n",
       "         0.25775 ,  0.12709 ,  0.80269 ,  0.61944 ,  0.54316 , -0.5941  ,\n",
       "         0.87551 , -0.063686, -0.29117 ,  0.61609 ,  0.33376 ,  0.14488 ,\n",
       "        -0.039021, -1.1849  , -0.45951 ,  0.15631 , -0.50818 ,  1.2357  ,\n",
       "         0.30965 , -1.958   , -1.1872  ,  1.2027  ,  2.1138  ,  0.083629,\n",
       "         0.54319 ,  0.78883 ,  0.35416 ,  0.87736 ,  0.54007 , -0.10454 ,\n",
       "         0.075371, -0.45727 , -0.27466 ,  0.11838 , -0.49412 , -0.61325 ,\n",
       "         0.071519, -0.57665 ,  0.21371 ,  0.62137 ,  1.4404  , -0.34033 ,\n",
       "        -0.89958 , -0.69605 ,  0.74058 ,  0.52105 , -0.19224 , -0.20366 ,\n",
       "        -0.22409 , -0.3708  , -0.34663 , -0.86018 , -0.89182 , -0.43871 ,\n",
       "         0.19424 ,  0.17073 ,  0.43663 , -0.11295 , -0.51156 ,  0.34186 ,\n",
       "        -0.10274 ,  0.39684 ,  1.734   , -0.70787 ], dtype=float32))"
      ]
     },
     "execution_count": 18,
     "metadata": {},
     "output_type": "execute_result"
    }
   ],
   "source": [
    "embeddings_index['sara'],embeddings_index[\"'s\"],embeddings_index['car']"
   ]
  }
 ],
 "metadata": {
  "kernelspec": {
   "display_name": "envDL",
   "language": "python",
   "name": "python3"
  },
  "language_info": {
   "codemirror_mode": {
    "name": "ipython",
    "version": 3
   },
   "file_extension": ".py",
   "mimetype": "text/x-python",
   "name": "python",
   "nbconvert_exporter": "python",
   "pygments_lexer": "ipython3",
   "version": "3.12.2"
  }
 },
 "nbformat": 4,
 "nbformat_minor": 2
}
