{
 "cells": [
  {
   "cell_type": "code",
   "execution_count": 3,
   "metadata": {},
   "outputs": [],
   "source": [
    "import numpy as np"
   ]
  },
  {
   "cell_type": "code",
   "execution_count": 4,
   "metadata": {},
   "outputs": [],
   "source": [
    "class Perceptron:\n",
    "    def __init__(self,N,alpha=0.1):\n",
    "        self.W=np.random.randn(N+1)/np.sqrt(N)\n",
    "        self.alpha=alpha\n",
    "\n",
    "    def step(self,x):\n",
    "        return 1 if x>0 else 0\n",
    "\n",
    "    def fit(self,X,y,epochs=10):\n",
    "        X=np.c_[X,np.ones((X.shape[0]))]\n",
    "\n",
    "        for epoch in np.arange(0,epochs):\n",
    "            for (x,target) in zip(X,y):\n",
    "                p=self.step(np.dot(x,self.W))\n",
    "                if p!=target:\n",
    "                  error=p-target\n",
    "                  self.W+=-self.alpha*error*x\n",
    "\n",
    "    def predict(self,X,addBias=True):\n",
    "        X=np.atleast_2d(X)\n",
    "        if addBias:\n",
    "            X=np.c_[X,np.ones((X.shape[0]))]\n",
    "\n",
    "        return self.step(np.dot(X,self.W))"
   ]
  },
  {
   "cell_type": "code",
   "execution_count": 5,
   "metadata": {},
   "outputs": [],
   "source": [
    "X=np.array([[0,0],[0,1],[1,0],[1,1]])\n",
    "y=np.array([[0],[1],[1],[1]])"
   ]
  },
  {
   "cell_type": "code",
   "execution_count": 6,
   "metadata": {},
   "outputs": [
    {
     "name": "stdout",
     "output_type": "stream",
     "text": [
      "data=[0 0], label=[0], pred=0\n",
      "data=[0 1], label=[1], pred=1\n",
      "data=[1 0], label=[1], pred=1\n",
      "data=[1 1], label=[1], pred=1\n"
     ]
    }
   ],
   "source": [
    "p=Perceptron(X.shape[1],alpha=0.1)\n",
    "p.fit(X,y,epochs=20)\n",
    "for (x,target) in zip(X,y):\n",
    "  pred=p.predict(x)\n",
    "  print(f'data={x}, label={target}, pred={pred}')"
   ]
  },
  {
   "cell_type": "code",
   "execution_count": 7,
   "metadata": {},
   "outputs": [
    {
     "name": "stdout",
     "output_type": "stream",
     "text": [
      "data=[0 0], label=[0], pred=0\n",
      "data=[0 1], label=[1], pred=0\n",
      "data=[1 0], label=[1], pred=0\n",
      "data=[1 1], label=[0], pred=0\n"
     ]
    }
   ],
   "source": [
    "X=np.array([[0,0],[0,1],[1,0],[1,1]])\n",
    "y=np.array([[0],[1],[1],[0]])\n",
    "\n",
    "p=Perceptron(X.shape[1],alpha=0.1)\n",
    "p.fit(X,y,epochs=20)\n",
    "for (x,target) in zip(X,y):\n",
    "  pred=p.predict(x)\n",
    "  print(f'data={x}, label={target}, pred={pred}')"
   ]
  }
 ],
 "metadata": {
  "kernelspec": {
   "display_name": "envDL",
   "language": "python",
   "name": "python3"
  },
  "language_info": {
   "codemirror_mode": {
    "name": "ipython",
    "version": 3
   },
   "file_extension": ".py",
   "mimetype": "text/x-python",
   "name": "python",
   "nbconvert_exporter": "python",
   "pygments_lexer": "ipython3",
   "version": "3.12.2"
  }
 },
 "nbformat": 4,
 "nbformat_minor": 2
}
