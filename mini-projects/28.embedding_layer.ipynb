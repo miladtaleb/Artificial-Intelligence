{
 "cells": [
  {
   "cell_type": "code",
   "execution_count": 1,
   "metadata": {},
   "outputs": [],
   "source": [
    "import numpy as np"
   ]
  },
  {
   "cell_type": "code",
   "execution_count": 4,
   "metadata": {},
   "outputs": [],
   "source": [
    "dir='/home/milad/Desktop/python/DL/Mini_project/db/glove.6B'\n",
    "embeddings_index={}\n",
    "words_to_index={}\n",
    "index_to_words={}\n",
    "with open(f'{dir}/glove.6B.100d.txt',encoding='utf-8') as f:\n",
    "  lines=f.readlines()\n",
    "  words =set()\n",
    "  for line in lines:\n",
    "    values=line.split()\n",
    "    word=values[0]\n",
    "    embed=values[1:]\n",
    "    weights=np.asarray(embed,dtype='float32')\n",
    "    embeddings_index[word]=weights\n",
    "    words.add(word)\n",
    "\n",
    "  i = 1\n",
    "  for w in sorted(words):\n",
    "    words_to_index[w]=i\n",
    "    index_to_words[i]=w\n",
    "    i+=1"
   ]
  },
  {
   "cell_type": "code",
   "execution_count": 3,
   "metadata": {},
   "outputs": [],
   "source": [
    "def senetences_to_indices(X,word_to_index,max_len):\n",
    "  m=X.shape[0]\n",
    "  X_indices=np.zeros((m,max_len))\n",
    "\n",
    "  for i in range(m):\n",
    "    sentence_words=X[i].lower().split()\n",
    "    for j,w in enumerate(sentence_words):\n",
    "      X_indices[i,j]=words_to_index[w]\n",
    "\n",
    "  return X_indices"
   ]
  },
  {
   "cell_type": "code",
   "execution_count": 5,
   "metadata": {},
   "outputs": [],
   "source": [
    "X=np.array(['funny','lets go party','food is ready for you'])\n",
    "X_indices=senetences_to_indices(X,words_to_index,max_len=5)"
   ]
  },
  {
   "cell_type": "code",
   "execution_count": 6,
   "metadata": {},
   "outputs": [
    {
     "name": "stderr",
     "output_type": "stream",
     "text": [
      "2024-07-28 19:13:15.471294: I external/local_tsl/tsl/cuda/cudart_stub.cc:32] Could not find cuda drivers on your machine, GPU will not be used.\n",
      "2024-07-28 19:13:15.676171: I external/local_tsl/tsl/cuda/cudart_stub.cc:32] Could not find cuda drivers on your machine, GPU will not be used.\n",
      "2024-07-28 19:13:16.640176: I tensorflow/core/platform/cpu_feature_guard.cc:210] This TensorFlow binary is optimized to use available CPU instructions in performance-critical operations.\n",
      "To enable the following instructions: AVX2 FMA, in other operations, rebuild TensorFlow with the appropriate compiler flags.\n",
      "2024-07-28 19:13:19.493724: W tensorflow/compiler/tf2tensorrt/utils/py_utils.cc:38] TF-TRT Warning: Could not find TensorRT\n"
     ]
    }
   ],
   "source": [
    "# Keras Functional API\n",
    "from keras.layers import Embedding\n",
    "\n",
    "def pretrained_embedding_layer(embeddings_index,words_to_index):\n",
    "  vocab_len = len(words_to_index) + 1 # oov\n",
    "  emb_dim=embeddings_index['ali'].shape[0]\n",
    "  emb_matrix=np.zeros((vocab_len,emb_dim))\n",
    "  for word,index in words_to_index.items():\n",
    "    emb_matrix[index,:]=embeddings_index[word]\n",
    "\n",
    "\n",
    "  embedding_layer = Embedding(vocab_len,emb_dim,trainable=False)\n",
    "  embedding_layer.build((None,))\n",
    "  embedding_layer.set_weights([emb_matrix])\n",
    "\n",
    "  return embedding_layer"
   ]
  },
  {
   "cell_type": "code",
   "execution_count": 7,
   "metadata": {},
   "outputs": [
    {
     "name": "stderr",
     "output_type": "stream",
     "text": [
      "2024-07-28 19:13:30.039412: W external/local_tsl/tsl/framework/cpu_allocator_impl.cc:83] Allocation of 160000400 exceeds 10% of free system memory.\n",
      "2024-07-28 19:13:31.083715: W external/local_tsl/tsl/framework/cpu_allocator_impl.cc:83] Allocation of 160000400 exceeds 10% of free system memory.\n",
      "2024-07-28 19:13:31.493059: W external/local_tsl/tsl/framework/cpu_allocator_impl.cc:83] Allocation of 160000400 exceeds 10% of free system memory.\n",
      "2024-07-28 19:13:33.650361: W external/local_tsl/tsl/framework/cpu_allocator_impl.cc:83] Allocation of 160000400 exceeds 10% of free system memory.\n"
     ]
    },
    {
     "data": {
      "text/plain": [
       "<Embedding name=embedding, built=True>"
      ]
     },
     "execution_count": 7,
     "metadata": {},
     "output_type": "execute_result"
    }
   ],
   "source": [
    "e=pretrained_embedding_layer(embeddings_index,words_to_index)\n",
    "e"
   ]
  }
 ],
 "metadata": {
  "kernelspec": {
   "display_name": "envDL",
   "language": "python",
   "name": "python3"
  },
  "language_info": {
   "codemirror_mode": {
    "name": "ipython",
    "version": 3
   },
   "file_extension": ".py",
   "mimetype": "text/x-python",
   "name": "python",
   "nbconvert_exporter": "python",
   "pygments_lexer": "ipython3",
   "version": "3.12.2"
  }
 },
 "nbformat": 4,
 "nbformat_minor": 2
}
