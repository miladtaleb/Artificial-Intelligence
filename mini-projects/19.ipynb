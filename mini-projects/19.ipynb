{
  "cells": [
    {
      "cell_type": "markdown",
      "metadata": {
        "id": "WK9ZBYnql_sq"
      },
      "source": [
        "## Cats & Dogs Dataset"
      ]
    },
    {
      "cell_type": "code",
      "execution_count": 1,
      "metadata": {
        "id": "mNLKrqh4fygq"
      },
      "outputs": [
        {
          "name": "stderr",
          "output_type": "stream",
          "text": [
            "2024-06-06 11:43:52.824835: I external/local_tsl/tsl/cuda/cudart_stub.cc:32] Could not find cuda drivers on your machine, GPU will not be used.\n",
            "2024-06-06 11:43:53.108259: I external/local_tsl/tsl/cuda/cudart_stub.cc:32] Could not find cuda drivers on your machine, GPU will not be used.\n",
            "2024-06-06 11:43:53.658304: I tensorflow/core/platform/cpu_feature_guard.cc:210] This TensorFlow binary is optimized to use available CPU instructions in performance-critical operations.\n",
            "To enable the following instructions: AVX2 FMA, in other operations, rebuild TensorFlow with the appropriate compiler flags.\n",
            "2024-06-06 11:43:56.587425: W tensorflow/compiler/tf2tensorrt/utils/py_utils.cc:38] TF-TRT Warning: Could not find TensorRT\n"
          ]
        }
      ],
      "source": [
        "from tensorflow.keras.preprocessing.image import ImageDataGenerator"
      ]
    },
    {
      "cell_type": "code",
      "execution_count": 2,
      "metadata": {
        "id": "cv6ojG14gGxY"
      },
      "outputs": [
        {
          "name": "stdout",
          "output_type": "stream",
          "text": [
            "--2024-06-06 11:44:05--  http://google.com/\n",
            "Resolving google.com (google.com)... 216.239.38.120, 2001:4860:4802:32::78\n",
            "Connecting to google.com (google.com)|216.239.38.120|:80... connected.\n",
            "HTTP request sent, awaiting response... 301 Moved Permanently\n",
            "Location: http://www.google.com/ [following]\n",
            "--2024-06-06 11:44:05--  http://www.google.com/\n",
            "Resolving www.google.com (www.google.com)... 216.239.38.120\n",
            "Reusing existing connection to google.com:80.\n",
            "HTTP request sent, awaiting response... 200 OK\n",
            "Length: unspecified [text/html]\n",
            "Saving to: ‘index.html’\n",
            "\n",
            "index.html              [ <=>                ]  19.24K  --.-KB/s    in 0.05s   \n",
            "\n",
            "2024-06-06 11:44:06 (350 KB/s) - ‘index.html’ saved [19702]\n",
            "\n"
          ]
        }
      ],
      "source": [
        "!wget google.com\n"
      ]
    },
    {
      "cell_type": "code",
      "execution_count": 8,
      "metadata": {
        "colab": {
          "base_uri": "https://localhost:8080/"
        },
        "id": "cA1xaF9efxBC",
        "outputId": "8dd6e408-46b7-4259-d167-e4dcbe6ce496"
      },
      "outputs": [
        {
          "name": "stdout",
          "output_type": "stream",
          "text": [
            "--2024-06-06 11:52:11--  https://download.microsoft.com/download/3/E/1/3E1C3F21-ECDB-4869-8368-6DEBA77B919F/kagglecatsanddogs_5340.zip\n",
            "Resolving download.microsoft.com (download.microsoft.com)... 138.201.204.218\n",
            "Connecting to download.microsoft.com (download.microsoft.com)|138.201.204.218|:443... connected.\n",
            "^C\n"
          ]
        }
      ],
      "source": [
        "!wget --no-check-certificate \\\n",
        "    \"https://download.microsoft.com/download/3/E/1/3E1C3F21-ECDB-4869-8368-6DEBA77B919F/kagglecatsanddogs_5340.zip\""
      ]
    },
    {
      "cell_type": "code",
      "execution_count": null,
      "metadata": {
        "colab": {
          "base_uri": "https://localhost:8080/"
        },
        "id": "xrDZTTieggI4",
        "outputId": "40a598f5-58ec-41c8-a073-8555b29cebb6"
      },
      "outputs": [
        {
          "name": "stdout",
          "output_type": "stream",
          "text": [
            "replace PetImages/Cat/0.jpg? [y]es, [n]o, [A]ll, [N]one, [r]ename: y\n",
            "replace PetImages/Cat/1.jpg? [y]es, [n]o, [A]ll, [N]one, [r]ename: y\n",
            "replace PetImages/Cat/10.jpg? [y]es, [n]o, [A]ll, [N]one, [r]ename: yes\n",
            "replace PetImages/Cat/100.jpg? [y]es, [n]o, [A]ll, [N]one, [r]ename: "
          ]
        }
      ],
      "source": [
        "!unzip -xq '/content/cats-and-dogs.zip'"
      ]
    },
    {
      "cell_type": "code",
      "execution_count": null,
      "metadata": {
        "id": "xJBIJHlwggGA"
      },
      "outputs": [],
      "source": [
        "import os\n",
        "from glob import glob as g"
      ]
    },
    {
      "cell_type": "code",
      "execution_count": null,
      "metadata": {
        "id": "j5r68f-nfvAC"
      },
      "outputs": [],
      "source": [
        "#g('/content/PetImages/*/*')"
      ]
    },
    {
      "cell_type": "code",
      "execution_count": null,
      "metadata": {
        "colab": {
          "base_uri": "https://localhost:8080/"
        },
        "id": "zgQ6cv4ufu9e",
        "outputId": "ee2e3f3c-9168-4539-a318-89f241d73e06"
      },
      "outputs": [
        {
          "data": {
            "text/plain": [
              "0"
            ]
          },
          "execution_count": 24,
          "metadata": {},
          "output_type": "execute_result"
        }
      ],
      "source": [
        "count=0\n",
        "for path in g('/content/PetImages/*/*'):\n",
        "  if not os.path.getsize(path):\n",
        "    count+=1\n",
        "    os.remove(path)\n",
        "\n",
        "count"
      ]
    },
    {
      "cell_type": "code",
      "execution_count": null,
      "metadata": {
        "id": "4hNRu_M5fu6g"
      },
      "outputs": [],
      "source": [
        "#os.listdir('/content/PetImages/Cat')"
      ]
    },
    {
      "cell_type": "code",
      "execution_count": null,
      "metadata": {
        "id": "t_WwlkngeqTv"
      },
      "outputs": [],
      "source": [
        "folder='/content/dataset'\n"
      ]
    },
    {
      "cell_type": "code",
      "execution_count": null,
      "metadata": {
        "id": "vVvvMAI4eD04"
      },
      "outputs": [],
      "source": [
        "train_cats_dir=f'{folder}/training/cats'\n",
        "train_dogs_dir=f'{folder}/training/dogs'\n",
        "\n",
        "\n",
        "test_cats_dir=f'{folder}/testing/cats'\n",
        "test_dogs_dir=f'{folder}/testing/dogs'\n",
        "\n",
        "folders=[\n",
        "    train_cats_dir,\n",
        "    train_dogs_dir,\n",
        "    test_cats_dir,\n",
        "    test_dogs_dir,\n",
        "]"
      ]
    },
    {
      "cell_type": "code",
      "execution_count": null,
      "metadata": {
        "id": "rFdbskY6iMWB"
      },
      "outputs": [],
      "source": [
        "# os.mkdir"
      ]
    },
    {
      "cell_type": "code",
      "execution_count": null,
      "metadata": {
        "colab": {
          "base_uri": "https://localhost:8080/",
          "height": 280
        },
        "id": "jq3e7ocEKme8",
        "outputId": "72f64b29-e18d-4495-bc63-79e99de65f6c"
      },
      "outputs": [
        {
          "ename": "FileExistsError",
          "evalue": "[Errno 17] File exists: '/content/dataset/training/cats'",
          "output_type": "error",
          "traceback": [
            "\u001b[0;31m---------------------------------------------------------------------------\u001b[0m",
            "\u001b[0;31mFileExistsError\u001b[0m                           Traceback (most recent call last)",
            "\u001b[0;32m<ipython-input-27-96134e4d8955>\u001b[0m in \u001b[0;36m<cell line: 1>\u001b[0;34m()\u001b[0m\n\u001b[1;32m      1\u001b[0m \u001b[0;32mfor\u001b[0m \u001b[0mf\u001b[0m \u001b[0;32min\u001b[0m \u001b[0mfolders\u001b[0m\u001b[0;34m:\u001b[0m\u001b[0;34m\u001b[0m\u001b[0;34m\u001b[0m\u001b[0m\n\u001b[0;32m----> 2\u001b[0;31m   \u001b[0mos\u001b[0m\u001b[0;34m.\u001b[0m\u001b[0mmakedirs\u001b[0m\u001b[0;34m(\u001b[0m\u001b[0mf\u001b[0m\u001b[0;34m)\u001b[0m \u001b[0;31m# research\u001b[0m\u001b[0;34m\u001b[0m\u001b[0;34m\u001b[0m\u001b[0m\n\u001b[0m",
            "\u001b[0;32m/usr/lib/python3.10/os.py\u001b[0m in \u001b[0;36mmakedirs\u001b[0;34m(name, mode, exist_ok)\u001b[0m\n\u001b[1;32m    223\u001b[0m             \u001b[0;32mreturn\u001b[0m\u001b[0;34m\u001b[0m\u001b[0;34m\u001b[0m\u001b[0m\n\u001b[1;32m    224\u001b[0m     \u001b[0;32mtry\u001b[0m\u001b[0;34m:\u001b[0m\u001b[0;34m\u001b[0m\u001b[0;34m\u001b[0m\u001b[0m\n\u001b[0;32m--> 225\u001b[0;31m         \u001b[0mmkdir\u001b[0m\u001b[0;34m(\u001b[0m\u001b[0mname\u001b[0m\u001b[0;34m,\u001b[0m \u001b[0mmode\u001b[0m\u001b[0;34m)\u001b[0m\u001b[0;34m\u001b[0m\u001b[0;34m\u001b[0m\u001b[0m\n\u001b[0m\u001b[1;32m    226\u001b[0m     \u001b[0;32mexcept\u001b[0m \u001b[0mOSError\u001b[0m\u001b[0;34m:\u001b[0m\u001b[0;34m\u001b[0m\u001b[0;34m\u001b[0m\u001b[0m\n\u001b[1;32m    227\u001b[0m         \u001b[0;31m# Cannot rely on checking for EEXIST, since the operating system\u001b[0m\u001b[0;34m\u001b[0m\u001b[0;34m\u001b[0m\u001b[0m\n",
            "\u001b[0;31mFileExistsError\u001b[0m: [Errno 17] File exists: '/content/dataset/training/cats'"
          ]
        }
      ],
      "source": [
        "for f in folders:\n",
        "  os.makedirs(f) # research\n"
      ]
    },
    {
      "cell_type": "code",
      "execution_count": null,
      "metadata": {
        "colab": {
          "base_uri": "https://localhost:8080/"
        },
        "id": "eMN_dZmNiUl5",
        "outputId": "7e6a5056-8f40-48e9-8f20-e4def813e6a3"
      },
      "outputs": [
        {
          "data": {
            "text/plain": [
              "(12500, 12500)"
            ]
          },
          "execution_count": 28,
          "metadata": {},
          "output_type": "execute_result"
        }
      ],
      "source": [
        "all_cats=sorted(g('/content/PetImages/Cat/*'))\n",
        "all_dogs=sorted(g('/content/PetImages/Dog/*'))\n",
        "len(all_cats),len(all_dogs)"
      ]
    },
    {
      "cell_type": "code",
      "execution_count": null,
      "metadata": {
        "colab": {
          "base_uri": "https://localhost:8080/"
        },
        "id": "ZEA3XPl9iUhY",
        "outputId": "d8fb034a-6389-4ad5-f48d-e73b99abc128"
      },
      "outputs": [
        {
          "data": {
            "text/plain": [
              "(11250, 1250)"
            ]
          },
          "execution_count": 29,
          "metadata": {},
          "output_type": "execute_result"
        }
      ],
      "source": [
        "from sklearn.model_selection import train_test_split\n",
        "\n",
        "\n",
        "dogs_train,dogs_test=train_test_split(all_dogs,test_size=0.1,shuffle=True,random_state=1403)\n",
        "len(dogs_train),len(dogs_test)"
      ]
    },
    {
      "cell_type": "code",
      "execution_count": null,
      "metadata": {
        "colab": {
          "base_uri": "https://localhost:8080/"
        },
        "id": "jbmpafI_iUex",
        "outputId": "cac0a3b3-0976-4038-e5fa-8a4fad92e648"
      },
      "outputs": [
        {
          "data": {
            "text/plain": [
              "(11250, 1250)"
            ]
          },
          "execution_count": 30,
          "metadata": {},
          "output_type": "execute_result"
        }
      ],
      "source": [
        "cats_train,cats_test=train_test_split(all_cats,test_size=0.1,shuffle=True,random_state=1403)\n",
        "len(cats_train),len(cats_test)"
      ]
    },
    {
      "cell_type": "code",
      "execution_count": null,
      "metadata": {
        "colab": {
          "base_uri": "https://localhost:8080/",
          "height": 35
        },
        "id": "tA66bXAwiUcK",
        "outputId": "96e90869-2a7e-4aee-b673-7ec3f811f167"
      },
      "outputs": [
        {
          "data": {
            "application/vnd.google.colaboratory.intrinsic+json": {
              "type": "string"
            },
            "text/plain": [
              "'/content/PetImages/Dog/9388.jpg'"
            ]
          },
          "execution_count": 31,
          "metadata": {},
          "output_type": "execute_result"
        }
      ],
      "source": [
        "dogs_train[0]"
      ]
    },
    {
      "cell_type": "code",
      "execution_count": null,
      "metadata": {
        "id": "LdWr63tzjpXp"
      },
      "outputs": [],
      "source": [
        "import shutil"
      ]
    },
    {
      "cell_type": "code",
      "execution_count": null,
      "metadata": {
        "id": "mtQWfR41iySr"
      },
      "outputs": [],
      "source": [
        "for name in dogs_train:\n",
        "  shutil.copy(name,os.path.join(train_dogs_dir,name.split('/')[-1]))"
      ]
    },
    {
      "cell_type": "code",
      "execution_count": null,
      "metadata": {
        "colab": {
          "base_uri": "https://localhost:8080/"
        },
        "id": "bcQgEiKIiyQC",
        "outputId": "89ef4579-79ab-406c-e911-12e4246afa41"
      },
      "outputs": [
        {
          "data": {
            "text/plain": [
              "11250"
            ]
          },
          "execution_count": 34,
          "metadata": {},
          "output_type": "execute_result"
        }
      ],
      "source": [
        "len(os.listdir(train_dogs_dir))"
      ]
    },
    {
      "cell_type": "code",
      "execution_count": null,
      "metadata": {
        "id": "iAjJpLgLiyNI"
      },
      "outputs": [],
      "source": [
        "for name in dogs_test:\n",
        "  shutil.copy(name,os.path.join(test_dogs_dir,name.split('/')[-1]))\n",
        "\n",
        "\n",
        "for name in cats_train:\n",
        "  shutil.copy(name,os.path.join(train_cats_dir,name.split('/')[-1]))\n",
        "\n",
        "for name in cats_test:\n",
        "  shutil.copy(name,os.path.join(test_cats_dir,name.split('/')[-1]))"
      ]
    },
    {
      "cell_type": "markdown",
      "metadata": {
        "id": "agLXZq1qkkaw"
      },
      "source": []
    },
    {
      "cell_type": "code",
      "execution_count": null,
      "metadata": {
        "colab": {
          "base_uri": "https://localhost:8080/"
        },
        "id": "SsUqTALNiUZY",
        "outputId": "e5961f38-726d-4717-a8b8-96e60144e4a6"
      },
      "outputs": [
        {
          "data": {
            "text/plain": [
              "(1250, 11250, 1250)"
            ]
          },
          "execution_count": 36,
          "metadata": {},
          "output_type": "execute_result"
        }
      ],
      "source": [
        "len(os.listdir(test_dogs_dir)),len(os.listdir(train_cats_dir)),len(os.listdir(test_cats_dir))"
      ]
    },
    {
      "cell_type": "code",
      "execution_count": null,
      "metadata": {
        "id": "yPu2h4-Bkl4E"
      },
      "outputs": [],
      "source": []
    },
    {
      "cell_type": "code",
      "execution_count": null,
      "metadata": {
        "colab": {
          "base_uri": "https://localhost:8080/"
        },
        "id": "OR_h0G_eiUWn",
        "outputId": "f1c302ad-b752-4781-99a6-227a7bc37794"
      },
      "outputs": [
        {
          "name": "stdout",
          "output_type": "stream",
          "text": [
            "Found 22498 images belonging to 2 classes.\n"
          ]
        }
      ],
      "source": [
        "training_dir='/content/dataset/training'\n",
        "train_datagen = ImageDataGenerator(rescale=1./255,validation_split=0.2)\n",
        "\n",
        "train_generator = train_datagen.flow_from_directory(training_dir,batch_size=64,class_mode='binary',target_size=(150,150))\n",
        "\n"
      ]
    },
    {
      "cell_type": "code",
      "execution_count": null,
      "metadata": {
        "colab": {
          "base_uri": "https://localhost:8080/"
        },
        "id": "3aYDkp0ziUTo",
        "outputId": "b035e2ae-e08e-48d5-9870-1d86a0e6ecaa"
      },
      "outputs": [
        {
          "name": "stdout",
          "output_type": "stream",
          "text": [
            "Found 2500 images belonging to 2 classes.\n"
          ]
        }
      ],
      "source": [
        "testing_dir='/content/dataset/testing'\n",
        "test_datagen = ImageDataGenerator(rescale=1./255,validation_split=0.2)\n",
        "\n",
        "test_generator = test_datagen.flow_from_directory(testing_dir,batch_size=64,class_mode='binary',target_size=(150,150))\n",
        "\n"
      ]
    },
    {
      "cell_type": "code",
      "execution_count": null,
      "metadata": {
        "id": "Fu_fxKxpiUQ4"
      },
      "outputs": [],
      "source": [
        "from keras.models import Sequential\n",
        "from keras.layers import Dense, Conv2D, MaxPool2D, Flatten\n",
        "\n",
        "\n",
        "model = Sequential()\n",
        "\n",
        "# CNN\n",
        "\n",
        "\n",
        "# sigmoid\n",
        "\n",
        "model.compile(optimizer='adam',loss='binary_crossentropy',metrics=['accuracy'])\n"
      ]
    },
    {
      "cell_type": "code",
      "execution_count": null,
      "metadata": {
        "id": "fWap2i1eKmcX"
      },
      "outputs": [],
      "source": [
        "history = model.fit(train_generator,epochs=15,verbose=1)"
      ]
    }
  ],
  "metadata": {
    "accelerator": "GPU",
    "colab": {
      "gpuType": "T4",
      "provenance": []
    },
    "kernelspec": {
      "display_name": "Python 3",
      "name": "python3"
    },
    "language_info": {
      "codemirror_mode": {
        "name": "ipython",
        "version": 3
      },
      "file_extension": ".py",
      "mimetype": "text/x-python",
      "name": "python",
      "nbconvert_exporter": "python",
      "pygments_lexer": "ipython3",
      "version": "3.12.2"
    }
  },
  "nbformat": 4,
  "nbformat_minor": 0
}
