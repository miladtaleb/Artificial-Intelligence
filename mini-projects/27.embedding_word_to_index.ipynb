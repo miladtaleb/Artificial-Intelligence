{
 "cells": [
  {
   "cell_type": "code",
   "execution_count": 2,
   "metadata": {},
   "outputs": [],
   "source": [
    "import numpy as np"
   ]
  },
  {
   "cell_type": "code",
   "execution_count": 3,
   "metadata": {},
   "outputs": [
    {
     "data": {
      "text/plain": [
       "400000"
      ]
     },
     "execution_count": 3,
     "metadata": {},
     "output_type": "execute_result"
    }
   ],
   "source": [
    "dir='/home/milad/Desktop/python/DL/Mini_project/db/glove.6B'\n",
    "embeddings_index={}\n",
    "words_to_index={}\n",
    "index_to_words={}\n",
    "with open(f'{dir}/glove.6B.100d.txt',encoding='utf-8') as f:\n",
    "  lines=f.readlines()\n",
    "  words =set()\n",
    "  for line in lines:\n",
    "    values=line.split()\n",
    "    word=values[0]\n",
    "    embed=values[1:]\n",
    "    weights=np.asarray(embed,dtype='float32')\n",
    "    embeddings_index[word]=weights\n",
    "    words.add(word)\n",
    "\n",
    "  i = 1\n",
    "  for w in sorted(words):\n",
    "    words_to_index[w]=i\n",
    "    index_to_words[i]=w\n",
    "    i+=1\n",
    "\n",
    "\n",
    "len(embeddings_index.keys())\n"
   ]
  },
  {
   "cell_type": "code",
   "execution_count": 4,
   "metadata": {},
   "outputs": [
    {
     "data": {
      "text/plain": [
       "318272"
      ]
     },
     "execution_count": 4,
     "metadata": {},
     "output_type": "execute_result"
    }
   ],
   "source": [
    "word='sara'\n",
    "words_to_index[word]"
   ]
  },
  {
   "cell_type": "code",
   "execution_count": 5,
   "metadata": {},
   "outputs": [
    {
     "data": {
      "text/plain": [
       "'sara'"
      ]
     },
     "execution_count": 5,
     "metadata": {},
     "output_type": "execute_result"
    }
   ],
   "source": [
    "index_to_words[318272]"
   ]
  },
  {
   "cell_type": "code",
   "execution_count": 6,
   "metadata": {},
   "outputs": [],
   "source": [
    "def senetences_to_indices(X,word_to_index,max_len):\n",
    "  m=X.shape[0]\n",
    "  X_indices=np.zeros((m,max_len))\n",
    "\n",
    "  for i in range(m):\n",
    "    sentence_words=X[i].lower().split()\n",
    "    for j,w in enumerate(sentence_words):\n",
    "      X_indices[i,j]=words_to_index[w]\n",
    "\n",
    "  return X_indices"
   ]
  },
  {
   "cell_type": "code",
   "execution_count": 7,
   "metadata": {},
   "outputs": [
    {
     "name": "stdout",
     "output_type": "stream",
     "text": [
      "['funny' 'lets go party' 'food is ready for you']\n",
      "[[155345.      0.      0.      0.      0.]\n",
      " [220930. 163237. 278093.      0.      0.]\n",
      " [151204. 192973. 302254. 151349. 394475.]]\n"
     ]
    }
   ],
   "source": [
    "X=np.array(['funny','lets go party','food is ready for you'])\n",
    "X_indices=senetences_to_indices(X,words_to_index,max_len=5)\n",
    "print(X)\n",
    "print(X_indices)\n",
    "# [[1234,0,0,0,0],[654,3242,123,0,0],[121,123,23,454,123]]"
   ]
  }
 ],
 "metadata": {
  "kernelspec": {
   "display_name": "envDL",
   "language": "python",
   "name": "python3"
  },
  "language_info": {
   "codemirror_mode": {
    "name": "ipython",
    "version": 3
   },
   "file_extension": ".py",
   "mimetype": "text/x-python",
   "name": "python",
   "nbconvert_exporter": "python",
   "pygments_lexer": "ipython3",
   "version": "3.12.2"
  }
 },
 "nbformat": 4,
 "nbformat_minor": 2
}
